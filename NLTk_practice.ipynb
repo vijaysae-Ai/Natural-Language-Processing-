{
  "nbformat": 4,
  "nbformat_minor": 0,
  "metadata": {
    "colab": {
      "provenance": []
    },
    "kernelspec": {
      "name": "python3",
      "display_name": "Python 3"
    },
    "language_info": {
      "name": "python"
    }
  },
  "cells": [
    {
      "cell_type": "code",
      "execution_count": 117,
      "metadata": {
        "id": "OXZ6LsgOtnu0"
      },
      "outputs": [],
      "source": [
        "import nltk\n",
        "\n",
        "from nltk.tokenize import word_tokenize"
      ]
    },
    {
      "cell_type": "code",
      "source": [
        "nltk.download('punkt')"
      ],
      "metadata": {
        "colab": {
          "base_uri": "https://localhost:8080/"
        },
        "id": "aVEkCbJYt41l",
        "outputId": "16e4abaf-2453-403c-bd20-638534a35cd1"
      },
      "execution_count": 118,
      "outputs": [
        {
          "output_type": "stream",
          "name": "stderr",
          "text": [
            "[nltk_data] Downloading package punkt to /root/nltk_data...\n",
            "[nltk_data]   Package punkt is already up-to-date!\n"
          ]
        },
        {
          "output_type": "execute_result",
          "data": {
            "text/plain": [
              "True"
            ]
          },
          "metadata": {},
          "execution_count": 118
        }
      ]
    },
    {
      "cell_type": "code",
      "source": [
        "p='''This began as one paragraph, but needed two—one for the problem and one for the solution. Also, notice that the second paragraph is a process paragraph. It would be very easy to add an introduction and conclusion to these two paragraphs and have a complete essay!\n",
        "\n",
        "People often install a kitty door, only to discover that they have a problem. The problem is their cat will not use the kitty door. There are several common reasons why cats won’t use kitty doors. First, they may not understand how a kitty door works. They may not understand that it is a little doorway just for them. Second, many kitty doors are dark, and cats cannot see to the other side. As such, they can’t be sure of what is on the other side of the door, so they won’t take the risk. One last reason cats won’t use kitty doors is because some cats don’t like the feeling of pushing through the door and having the door drag across their back. But don’t worry—there is a solution for this kitty-door problem.\n",
        "\n",
        "The first step in solving the problem is to prop the door open with tape. This means your cat will now be able to see through to the other side; your cat will likely begin using the kitty door immediately. Once your cat has gotten used to using the kitty door, remove the tape. Sometimes cats will continue to use the kitty door without any more prompting. If this does not happen, you will want to use food to bribe your cat. When it’s feeding time, sit on the opposite side of the door from your cat and either click the top of the can or crinkle the cat food bag. Open the door to show your cat that it is both you and the food waiting on the other side of the door. Repeat this a couple times, and then feed your cat. After a couple days of this, your kitty-door problem will be solved.'''"
      ],
      "metadata": {
        "id": "xS4ngrqpuL9Q"
      },
      "execution_count": 119,
      "outputs": []
    },
    {
      "cell_type": "code",
      "source": [
        "p_token=word_tokenize(p)"
      ],
      "metadata": {
        "id": "4oqmmF0WuTGj"
      },
      "execution_count": 120,
      "outputs": []
    },
    {
      "cell_type": "code",
      "source": [
        "p_token[1:5]"
      ],
      "metadata": {
        "colab": {
          "base_uri": "https://localhost:8080/"
        },
        "id": "RraQLrhNuZjz",
        "outputId": "0622f5c4-93cd-468f-ae0f-263b46e0eb3e"
      },
      "execution_count": 121,
      "outputs": [
        {
          "output_type": "execute_result",
          "data": {
            "text/plain": [
              "['began', 'as', 'one', 'paragraph']"
            ]
          },
          "metadata": {},
          "execution_count": 121
        }
      ]
    },
    {
      "cell_type": "code",
      "source": [
        "type(p_token)"
      ],
      "metadata": {
        "colab": {
          "base_uri": "https://localhost:8080/"
        },
        "id": "f3bXXSJ7ucFE",
        "outputId": "6eb57039-759a-43f8-c671-4be953ffa439"
      },
      "execution_count": 122,
      "outputs": [
        {
          "output_type": "execute_result",
          "data": {
            "text/plain": [
              "list"
            ]
          },
          "metadata": {},
          "execution_count": 122
        }
      ]
    },
    {
      "cell_type": "code",
      "source": [
        "len(p_token)"
      ],
      "metadata": {
        "colab": {
          "base_uri": "https://localhost:8080/"
        },
        "id": "oBSkG2d4vEWu",
        "outputId": "ed0d6e40-39f1-4075-99ef-8768bd4e1027"
      },
      "execution_count": 123,
      "outputs": [
        {
          "output_type": "execute_result",
          "data": {
            "text/plain": [
              "386"
            ]
          },
          "metadata": {},
          "execution_count": 123
        }
      ]
    },
    {
      "cell_type": "code",
      "source": [
        "from nltk.probability import FreqDist"
      ],
      "metadata": {
        "id": "Bp0M8uTvvHMN"
      },
      "execution_count": 124,
      "outputs": []
    },
    {
      "cell_type": "code",
      "source": [
        "fdist=FreqDist()"
      ],
      "metadata": {
        "id": "TmhAWT01v_If"
      },
      "execution_count": 125,
      "outputs": []
    },
    {
      "cell_type": "code",
      "source": [],
      "metadata": {
        "id": "E5po52ZywhJ7"
      },
      "execution_count": 125,
      "outputs": []
    },
    {
      "cell_type": "code",
      "source": [
        "for i in p_token:\n",
        "    fdist[i]= fdist[i]+1\n",
        "fdist\n",
        "\n"
      ],
      "metadata": {
        "colab": {
          "base_uri": "https://localhost:8080/"
        },
        "id": "FocOhU3gwFvc",
        "outputId": "e428cc67-ebc6-4c18-bc44-1d1b8a240a7e"
      },
      "execution_count": 126,
      "outputs": [
        {
          "output_type": "execute_result",
          "data": {
            "text/plain": [
              "FreqDist({'the': 27, '.': 20, ',': 13, 'door': 13, 'to': 12, 'a': 9, 'kitty': 9, 'cat': 9, 'and': 8, 'is': 8, ...})"
            ]
          },
          "metadata": {},
          "execution_count": 126
        }
      ]
    },
    {
      "cell_type": "code",
      "source": [
        "#now i want findout top 20 common tokens\n",
        "\n",
        "top_20=fdist.most_common(20)"
      ],
      "metadata": {
        "id": "MjuDlzVSwNay"
      },
      "execution_count": 127,
      "outputs": []
    },
    {
      "cell_type": "code",
      "source": [
        "top_20"
      ],
      "metadata": {
        "colab": {
          "base_uri": "https://localhost:8080/"
        },
        "id": "VvyIUSICwtv_",
        "outputId": "3ba5b2f5-da8a-4302-f233-d3d90f2876de"
      },
      "execution_count": 128,
      "outputs": [
        {
          "output_type": "execute_result",
          "data": {
            "text/plain": [
              "[('the', 27),\n",
              " ('.', 20),\n",
              " (',', 13),\n",
              " ('door', 13),\n",
              " ('to', 12),\n",
              " ('a', 9),\n",
              " ('kitty', 9),\n",
              " ('cat', 9),\n",
              " ('and', 8),\n",
              " ('is', 8),\n",
              " ('your', 8),\n",
              " ('’', 7),\n",
              " ('of', 7),\n",
              " ('problem', 6),\n",
              " ('will', 6),\n",
              " ('t', 6),\n",
              " ('not', 5),\n",
              " ('use', 5),\n",
              " ('cats', 5),\n",
              " ('side', 5)]"
            ]
          },
          "metadata": {},
          "execution_count": 128
        }
      ]
    },
    {
      "cell_type": "code",
      "source": [
        "words='''Oceans and lakes have much in common, but they are also quite different. Both are bodies of water, but oceans are very large bodies of salt water, while lakes are much smaller bodies of fresh water. Lakes are usually surrounded by land, while oceans are what surround continents. Both have plants and animals living in them. The ocean is home to the largest animals on the planet, whereas lakes support much smaller forms of life. When it is time for a vacation, both will make a great place to visit and enjoy. '''"
      ],
      "metadata": {
        "id": "UuOOJDbJ0XuG"
      },
      "execution_count": 129,
      "outputs": []
    },
    {
      "cell_type": "code",
      "source": [
        "#uni-gram\n",
        "token=word_tokenize(words)\n",
        "token"
      ],
      "metadata": {
        "colab": {
          "base_uri": "https://localhost:8080/"
        },
        "id": "EdftD-rvzHIU",
        "outputId": "35a1cce6-2a4d-4bcb-fc7e-c18f65029439"
      },
      "execution_count": 130,
      "outputs": [
        {
          "output_type": "execute_result",
          "data": {
            "text/plain": [
              "['Oceans',\n",
              " 'and',\n",
              " 'lakes',\n",
              " 'have',\n",
              " 'much',\n",
              " 'in',\n",
              " 'common',\n",
              " ',',\n",
              " 'but',\n",
              " 'they',\n",
              " 'are',\n",
              " 'also',\n",
              " 'quite',\n",
              " 'different',\n",
              " '.',\n",
              " 'Both',\n",
              " 'are',\n",
              " 'bodies',\n",
              " 'of',\n",
              " 'water',\n",
              " ',',\n",
              " 'but',\n",
              " 'oceans',\n",
              " 'are',\n",
              " 'very',\n",
              " 'large',\n",
              " 'bodies',\n",
              " 'of',\n",
              " 'salt',\n",
              " 'water',\n",
              " ',',\n",
              " 'while',\n",
              " 'lakes',\n",
              " 'are',\n",
              " 'much',\n",
              " 'smaller',\n",
              " 'bodies',\n",
              " 'of',\n",
              " 'fresh',\n",
              " 'water',\n",
              " '.',\n",
              " 'Lakes',\n",
              " 'are',\n",
              " 'usually',\n",
              " 'surrounded',\n",
              " 'by',\n",
              " 'land',\n",
              " ',',\n",
              " 'while',\n",
              " 'oceans',\n",
              " 'are',\n",
              " 'what',\n",
              " 'surround',\n",
              " 'continents',\n",
              " '.',\n",
              " 'Both',\n",
              " 'have',\n",
              " 'plants',\n",
              " 'and',\n",
              " 'animals',\n",
              " 'living',\n",
              " 'in',\n",
              " 'them',\n",
              " '.',\n",
              " 'The',\n",
              " 'ocean',\n",
              " 'is',\n",
              " 'home',\n",
              " 'to',\n",
              " 'the',\n",
              " 'largest',\n",
              " 'animals',\n",
              " 'on',\n",
              " 'the',\n",
              " 'planet',\n",
              " ',',\n",
              " 'whereas',\n",
              " 'lakes',\n",
              " 'support',\n",
              " 'much',\n",
              " 'smaller',\n",
              " 'forms',\n",
              " 'of',\n",
              " 'life',\n",
              " '.',\n",
              " 'When',\n",
              " 'it',\n",
              " 'is',\n",
              " 'time',\n",
              " 'for',\n",
              " 'a',\n",
              " 'vacation',\n",
              " ',',\n",
              " 'both',\n",
              " 'will',\n",
              " 'make',\n",
              " 'a',\n",
              " 'great',\n",
              " 'place',\n",
              " 'to',\n",
              " 'visit',\n",
              " 'and',\n",
              " 'enjoy',\n",
              " '.']"
            ]
          },
          "metadata": {},
          "execution_count": 130
        }
      ]
    },
    {
      "cell_type": "code",
      "source": [
        "#bigrams\n",
        "list(nltk.bigrams(token))"
      ],
      "metadata": {
        "colab": {
          "base_uri": "https://localhost:8080/"
        },
        "id": "QeExruWP02tH",
        "outputId": "c4f1a780-9358-4232-88e3-d85cfbec2252"
      },
      "execution_count": 131,
      "outputs": [
        {
          "output_type": "execute_result",
          "data": {
            "text/plain": [
              "[('Oceans', 'and'),\n",
              " ('and', 'lakes'),\n",
              " ('lakes', 'have'),\n",
              " ('have', 'much'),\n",
              " ('much', 'in'),\n",
              " ('in', 'common'),\n",
              " ('common', ','),\n",
              " (',', 'but'),\n",
              " ('but', 'they'),\n",
              " ('they', 'are'),\n",
              " ('are', 'also'),\n",
              " ('also', 'quite'),\n",
              " ('quite', 'different'),\n",
              " ('different', '.'),\n",
              " ('.', 'Both'),\n",
              " ('Both', 'are'),\n",
              " ('are', 'bodies'),\n",
              " ('bodies', 'of'),\n",
              " ('of', 'water'),\n",
              " ('water', ','),\n",
              " (',', 'but'),\n",
              " ('but', 'oceans'),\n",
              " ('oceans', 'are'),\n",
              " ('are', 'very'),\n",
              " ('very', 'large'),\n",
              " ('large', 'bodies'),\n",
              " ('bodies', 'of'),\n",
              " ('of', 'salt'),\n",
              " ('salt', 'water'),\n",
              " ('water', ','),\n",
              " (',', 'while'),\n",
              " ('while', 'lakes'),\n",
              " ('lakes', 'are'),\n",
              " ('are', 'much'),\n",
              " ('much', 'smaller'),\n",
              " ('smaller', 'bodies'),\n",
              " ('bodies', 'of'),\n",
              " ('of', 'fresh'),\n",
              " ('fresh', 'water'),\n",
              " ('water', '.'),\n",
              " ('.', 'Lakes'),\n",
              " ('Lakes', 'are'),\n",
              " ('are', 'usually'),\n",
              " ('usually', 'surrounded'),\n",
              " ('surrounded', 'by'),\n",
              " ('by', 'land'),\n",
              " ('land', ','),\n",
              " (',', 'while'),\n",
              " ('while', 'oceans'),\n",
              " ('oceans', 'are'),\n",
              " ('are', 'what'),\n",
              " ('what', 'surround'),\n",
              " ('surround', 'continents'),\n",
              " ('continents', '.'),\n",
              " ('.', 'Both'),\n",
              " ('Both', 'have'),\n",
              " ('have', 'plants'),\n",
              " ('plants', 'and'),\n",
              " ('and', 'animals'),\n",
              " ('animals', 'living'),\n",
              " ('living', 'in'),\n",
              " ('in', 'them'),\n",
              " ('them', '.'),\n",
              " ('.', 'The'),\n",
              " ('The', 'ocean'),\n",
              " ('ocean', 'is'),\n",
              " ('is', 'home'),\n",
              " ('home', 'to'),\n",
              " ('to', 'the'),\n",
              " ('the', 'largest'),\n",
              " ('largest', 'animals'),\n",
              " ('animals', 'on'),\n",
              " ('on', 'the'),\n",
              " ('the', 'planet'),\n",
              " ('planet', ','),\n",
              " (',', 'whereas'),\n",
              " ('whereas', 'lakes'),\n",
              " ('lakes', 'support'),\n",
              " ('support', 'much'),\n",
              " ('much', 'smaller'),\n",
              " ('smaller', 'forms'),\n",
              " ('forms', 'of'),\n",
              " ('of', 'life'),\n",
              " ('life', '.'),\n",
              " ('.', 'When'),\n",
              " ('When', 'it'),\n",
              " ('it', 'is'),\n",
              " ('is', 'time'),\n",
              " ('time', 'for'),\n",
              " ('for', 'a'),\n",
              " ('a', 'vacation'),\n",
              " ('vacation', ','),\n",
              " (',', 'both'),\n",
              " ('both', 'will'),\n",
              " ('will', 'make'),\n",
              " ('make', 'a'),\n",
              " ('a', 'great'),\n",
              " ('great', 'place'),\n",
              " ('place', 'to'),\n",
              " ('to', 'visit'),\n",
              " ('visit', 'and'),\n",
              " ('and', 'enjoy'),\n",
              " ('enjoy', '.')]"
            ]
          },
          "metadata": {},
          "execution_count": 131
        }
      ]
    },
    {
      "cell_type": "code",
      "source": [
        "list(nltk.trigrams(token))"
      ],
      "metadata": {
        "colab": {
          "base_uri": "https://localhost:8080/"
        },
        "id": "HWejW_xs1utw",
        "outputId": "70670f9a-10f3-4eca-c1a9-e7a0d4e5844d"
      },
      "execution_count": 132,
      "outputs": [
        {
          "output_type": "execute_result",
          "data": {
            "text/plain": [
              "[('Oceans', 'and', 'lakes'),\n",
              " ('and', 'lakes', 'have'),\n",
              " ('lakes', 'have', 'much'),\n",
              " ('have', 'much', 'in'),\n",
              " ('much', 'in', 'common'),\n",
              " ('in', 'common', ','),\n",
              " ('common', ',', 'but'),\n",
              " (',', 'but', 'they'),\n",
              " ('but', 'they', 'are'),\n",
              " ('they', 'are', 'also'),\n",
              " ('are', 'also', 'quite'),\n",
              " ('also', 'quite', 'different'),\n",
              " ('quite', 'different', '.'),\n",
              " ('different', '.', 'Both'),\n",
              " ('.', 'Both', 'are'),\n",
              " ('Both', 'are', 'bodies'),\n",
              " ('are', 'bodies', 'of'),\n",
              " ('bodies', 'of', 'water'),\n",
              " ('of', 'water', ','),\n",
              " ('water', ',', 'but'),\n",
              " (',', 'but', 'oceans'),\n",
              " ('but', 'oceans', 'are'),\n",
              " ('oceans', 'are', 'very'),\n",
              " ('are', 'very', 'large'),\n",
              " ('very', 'large', 'bodies'),\n",
              " ('large', 'bodies', 'of'),\n",
              " ('bodies', 'of', 'salt'),\n",
              " ('of', 'salt', 'water'),\n",
              " ('salt', 'water', ','),\n",
              " ('water', ',', 'while'),\n",
              " (',', 'while', 'lakes'),\n",
              " ('while', 'lakes', 'are'),\n",
              " ('lakes', 'are', 'much'),\n",
              " ('are', 'much', 'smaller'),\n",
              " ('much', 'smaller', 'bodies'),\n",
              " ('smaller', 'bodies', 'of'),\n",
              " ('bodies', 'of', 'fresh'),\n",
              " ('of', 'fresh', 'water'),\n",
              " ('fresh', 'water', '.'),\n",
              " ('water', '.', 'Lakes'),\n",
              " ('.', 'Lakes', 'are'),\n",
              " ('Lakes', 'are', 'usually'),\n",
              " ('are', 'usually', 'surrounded'),\n",
              " ('usually', 'surrounded', 'by'),\n",
              " ('surrounded', 'by', 'land'),\n",
              " ('by', 'land', ','),\n",
              " ('land', ',', 'while'),\n",
              " (',', 'while', 'oceans'),\n",
              " ('while', 'oceans', 'are'),\n",
              " ('oceans', 'are', 'what'),\n",
              " ('are', 'what', 'surround'),\n",
              " ('what', 'surround', 'continents'),\n",
              " ('surround', 'continents', '.'),\n",
              " ('continents', '.', 'Both'),\n",
              " ('.', 'Both', 'have'),\n",
              " ('Both', 'have', 'plants'),\n",
              " ('have', 'plants', 'and'),\n",
              " ('plants', 'and', 'animals'),\n",
              " ('and', 'animals', 'living'),\n",
              " ('animals', 'living', 'in'),\n",
              " ('living', 'in', 'them'),\n",
              " ('in', 'them', '.'),\n",
              " ('them', '.', 'The'),\n",
              " ('.', 'The', 'ocean'),\n",
              " ('The', 'ocean', 'is'),\n",
              " ('ocean', 'is', 'home'),\n",
              " ('is', 'home', 'to'),\n",
              " ('home', 'to', 'the'),\n",
              " ('to', 'the', 'largest'),\n",
              " ('the', 'largest', 'animals'),\n",
              " ('largest', 'animals', 'on'),\n",
              " ('animals', 'on', 'the'),\n",
              " ('on', 'the', 'planet'),\n",
              " ('the', 'planet', ','),\n",
              " ('planet', ',', 'whereas'),\n",
              " (',', 'whereas', 'lakes'),\n",
              " ('whereas', 'lakes', 'support'),\n",
              " ('lakes', 'support', 'much'),\n",
              " ('support', 'much', 'smaller'),\n",
              " ('much', 'smaller', 'forms'),\n",
              " ('smaller', 'forms', 'of'),\n",
              " ('forms', 'of', 'life'),\n",
              " ('of', 'life', '.'),\n",
              " ('life', '.', 'When'),\n",
              " ('.', 'When', 'it'),\n",
              " ('When', 'it', 'is'),\n",
              " ('it', 'is', 'time'),\n",
              " ('is', 'time', 'for'),\n",
              " ('time', 'for', 'a'),\n",
              " ('for', 'a', 'vacation'),\n",
              " ('a', 'vacation', ','),\n",
              " ('vacation', ',', 'both'),\n",
              " (',', 'both', 'will'),\n",
              " ('both', 'will', 'make'),\n",
              " ('will', 'make', 'a'),\n",
              " ('make', 'a', 'great'),\n",
              " ('a', 'great', 'place'),\n",
              " ('great', 'place', 'to'),\n",
              " ('place', 'to', 'visit'),\n",
              " ('to', 'visit', 'and'),\n",
              " ('visit', 'and', 'enjoy'),\n",
              " ('and', 'enjoy', '.')]"
            ]
          },
          "metadata": {},
          "execution_count": 132
        }
      ]
    },
    {
      "cell_type": "code",
      "source": [
        "list(nltk.ngrams(token,5))"
      ],
      "metadata": {
        "colab": {
          "base_uri": "https://localhost:8080/"
        },
        "id": "Yib6m0352FQH",
        "outputId": "54fe2b15-9862-46c2-d6e2-45422607b643"
      },
      "execution_count": 133,
      "outputs": [
        {
          "output_type": "execute_result",
          "data": {
            "text/plain": [
              "[('Oceans', 'and', 'lakes', 'have', 'much'),\n",
              " ('and', 'lakes', 'have', 'much', 'in'),\n",
              " ('lakes', 'have', 'much', 'in', 'common'),\n",
              " ('have', 'much', 'in', 'common', ','),\n",
              " ('much', 'in', 'common', ',', 'but'),\n",
              " ('in', 'common', ',', 'but', 'they'),\n",
              " ('common', ',', 'but', 'they', 'are'),\n",
              " (',', 'but', 'they', 'are', 'also'),\n",
              " ('but', 'they', 'are', 'also', 'quite'),\n",
              " ('they', 'are', 'also', 'quite', 'different'),\n",
              " ('are', 'also', 'quite', 'different', '.'),\n",
              " ('also', 'quite', 'different', '.', 'Both'),\n",
              " ('quite', 'different', '.', 'Both', 'are'),\n",
              " ('different', '.', 'Both', 'are', 'bodies'),\n",
              " ('.', 'Both', 'are', 'bodies', 'of'),\n",
              " ('Both', 'are', 'bodies', 'of', 'water'),\n",
              " ('are', 'bodies', 'of', 'water', ','),\n",
              " ('bodies', 'of', 'water', ',', 'but'),\n",
              " ('of', 'water', ',', 'but', 'oceans'),\n",
              " ('water', ',', 'but', 'oceans', 'are'),\n",
              " (',', 'but', 'oceans', 'are', 'very'),\n",
              " ('but', 'oceans', 'are', 'very', 'large'),\n",
              " ('oceans', 'are', 'very', 'large', 'bodies'),\n",
              " ('are', 'very', 'large', 'bodies', 'of'),\n",
              " ('very', 'large', 'bodies', 'of', 'salt'),\n",
              " ('large', 'bodies', 'of', 'salt', 'water'),\n",
              " ('bodies', 'of', 'salt', 'water', ','),\n",
              " ('of', 'salt', 'water', ',', 'while'),\n",
              " ('salt', 'water', ',', 'while', 'lakes'),\n",
              " ('water', ',', 'while', 'lakes', 'are'),\n",
              " (',', 'while', 'lakes', 'are', 'much'),\n",
              " ('while', 'lakes', 'are', 'much', 'smaller'),\n",
              " ('lakes', 'are', 'much', 'smaller', 'bodies'),\n",
              " ('are', 'much', 'smaller', 'bodies', 'of'),\n",
              " ('much', 'smaller', 'bodies', 'of', 'fresh'),\n",
              " ('smaller', 'bodies', 'of', 'fresh', 'water'),\n",
              " ('bodies', 'of', 'fresh', 'water', '.'),\n",
              " ('of', 'fresh', 'water', '.', 'Lakes'),\n",
              " ('fresh', 'water', '.', 'Lakes', 'are'),\n",
              " ('water', '.', 'Lakes', 'are', 'usually'),\n",
              " ('.', 'Lakes', 'are', 'usually', 'surrounded'),\n",
              " ('Lakes', 'are', 'usually', 'surrounded', 'by'),\n",
              " ('are', 'usually', 'surrounded', 'by', 'land'),\n",
              " ('usually', 'surrounded', 'by', 'land', ','),\n",
              " ('surrounded', 'by', 'land', ',', 'while'),\n",
              " ('by', 'land', ',', 'while', 'oceans'),\n",
              " ('land', ',', 'while', 'oceans', 'are'),\n",
              " (',', 'while', 'oceans', 'are', 'what'),\n",
              " ('while', 'oceans', 'are', 'what', 'surround'),\n",
              " ('oceans', 'are', 'what', 'surround', 'continents'),\n",
              " ('are', 'what', 'surround', 'continents', '.'),\n",
              " ('what', 'surround', 'continents', '.', 'Both'),\n",
              " ('surround', 'continents', '.', 'Both', 'have'),\n",
              " ('continents', '.', 'Both', 'have', 'plants'),\n",
              " ('.', 'Both', 'have', 'plants', 'and'),\n",
              " ('Both', 'have', 'plants', 'and', 'animals'),\n",
              " ('have', 'plants', 'and', 'animals', 'living'),\n",
              " ('plants', 'and', 'animals', 'living', 'in'),\n",
              " ('and', 'animals', 'living', 'in', 'them'),\n",
              " ('animals', 'living', 'in', 'them', '.'),\n",
              " ('living', 'in', 'them', '.', 'The'),\n",
              " ('in', 'them', '.', 'The', 'ocean'),\n",
              " ('them', '.', 'The', 'ocean', 'is'),\n",
              " ('.', 'The', 'ocean', 'is', 'home'),\n",
              " ('The', 'ocean', 'is', 'home', 'to'),\n",
              " ('ocean', 'is', 'home', 'to', 'the'),\n",
              " ('is', 'home', 'to', 'the', 'largest'),\n",
              " ('home', 'to', 'the', 'largest', 'animals'),\n",
              " ('to', 'the', 'largest', 'animals', 'on'),\n",
              " ('the', 'largest', 'animals', 'on', 'the'),\n",
              " ('largest', 'animals', 'on', 'the', 'planet'),\n",
              " ('animals', 'on', 'the', 'planet', ','),\n",
              " ('on', 'the', 'planet', ',', 'whereas'),\n",
              " ('the', 'planet', ',', 'whereas', 'lakes'),\n",
              " ('planet', ',', 'whereas', 'lakes', 'support'),\n",
              " (',', 'whereas', 'lakes', 'support', 'much'),\n",
              " ('whereas', 'lakes', 'support', 'much', 'smaller'),\n",
              " ('lakes', 'support', 'much', 'smaller', 'forms'),\n",
              " ('support', 'much', 'smaller', 'forms', 'of'),\n",
              " ('much', 'smaller', 'forms', 'of', 'life'),\n",
              " ('smaller', 'forms', 'of', 'life', '.'),\n",
              " ('forms', 'of', 'life', '.', 'When'),\n",
              " ('of', 'life', '.', 'When', 'it'),\n",
              " ('life', '.', 'When', 'it', 'is'),\n",
              " ('.', 'When', 'it', 'is', 'time'),\n",
              " ('When', 'it', 'is', 'time', 'for'),\n",
              " ('it', 'is', 'time', 'for', 'a'),\n",
              " ('is', 'time', 'for', 'a', 'vacation'),\n",
              " ('time', 'for', 'a', 'vacation', ','),\n",
              " ('for', 'a', 'vacation', ',', 'both'),\n",
              " ('a', 'vacation', ',', 'both', 'will'),\n",
              " ('vacation', ',', 'both', 'will', 'make'),\n",
              " (',', 'both', 'will', 'make', 'a'),\n",
              " ('both', 'will', 'make', 'a', 'great'),\n",
              " ('will', 'make', 'a', 'great', 'place'),\n",
              " ('make', 'a', 'great', 'place', 'to'),\n",
              " ('a', 'great', 'place', 'to', 'visit'),\n",
              " ('great', 'place', 'to', 'visit', 'and'),\n",
              " ('place', 'to', 'visit', 'and', 'enjoy'),\n",
              " ('to', 'visit', 'and', 'enjoy', '.')]"
            ]
          },
          "metadata": {},
          "execution_count": 133
        }
      ]
    },
    {
      "cell_type": "code",
      "source": [
        "from nltk.stem import PorterStemmer"
      ],
      "metadata": {
        "id": "Wep2p6Yg2N7a"
      },
      "execution_count": 134,
      "outputs": []
    },
    {
      "cell_type": "code",
      "source": [
        "pst=PorterStemmer()"
      ],
      "metadata": {
        "id": "cbmrzRw630j3"
      },
      "execution_count": 135,
      "outputs": []
    },
    {
      "cell_type": "code",
      "source": [
        "pst.stem('different')"
      ],
      "metadata": {
        "colab": {
          "base_uri": "https://localhost:8080/",
          "height": 35
        },
        "id": "wh8J9RJP34QY",
        "outputId": "ca8e97e4-ecf6-49f2-fd77-7af82b1666ac"
      },
      "execution_count": 136,
      "outputs": [
        {
          "output_type": "execute_result",
          "data": {
            "text/plain": [
              "'differ'"
            ],
            "application/vnd.google.colaboratory.intrinsic+json": {
              "type": "string"
            }
          },
          "metadata": {},
          "execution_count": 136
        }
      ]
    },
    {
      "cell_type": "code",
      "source": [
        "pst.stem('Buying')"
      ],
      "metadata": {
        "colab": {
          "base_uri": "https://localhost:8080/",
          "height": 35
        },
        "id": "X0Zh3p0l37jZ",
        "outputId": "33bc1b32-ec64-4552-f5ef-72c281d65285"
      },
      "execution_count": 137,
      "outputs": [
        {
          "output_type": "execute_result",
          "data": {
            "text/plain": [
              "'buy'"
            ],
            "application/vnd.google.colaboratory.intrinsic+json": {
              "type": "string"
            }
          },
          "metadata": {},
          "execution_count": 137
        }
      ]
    },
    {
      "cell_type": "code",
      "source": [
        "pst.stem('studies')"
      ],
      "metadata": {
        "colab": {
          "base_uri": "https://localhost:8080/",
          "height": 35
        },
        "id": "d8tdhO7L4jLN",
        "outputId": "281c1668-a59a-46bd-fdd0-e19ca0f258bd"
      },
      "execution_count": 138,
      "outputs": [
        {
          "output_type": "execute_result",
          "data": {
            "text/plain": [
              "'studi'"
            ],
            "application/vnd.google.colaboratory.intrinsic+json": {
              "type": "string"
            }
          },
          "metadata": {},
          "execution_count": 138
        }
      ]
    },
    {
      "cell_type": "code",
      "source": [
        "# Lemmatization"
      ],
      "metadata": {
        "id": "0QHxdhYC4oqS"
      },
      "execution_count": 139,
      "outputs": []
    },
    {
      "cell_type": "code",
      "source": [
        "from nltk.stem import wordnet\n",
        "from nltk.stem import WordNetLemmatizer\n"
      ],
      "metadata": {
        "id": "lRZKir0X4ymW"
      },
      "execution_count": 140,
      "outputs": []
    },
    {
      "cell_type": "code",
      "source": [
        "#create instance for WordNetLemmatizer\n",
        "lemmatizer=WordNetLemmatizer()"
      ],
      "metadata": {
        "id": "MbXeMbyQ54re"
      },
      "execution_count": 141,
      "outputs": []
    },
    {
      "cell_type": "code",
      "source": [
        "para='''The schools fair is rights Around the Corner, and Tickets Have just Gone on sale. We are selling a limited number of tickets at a discount, so move fast and get yours while they are still available'''"
      ],
      "metadata": {
        "id": "UAecYAhE6PcU"
      },
      "execution_count": 142,
      "outputs": []
    },
    {
      "cell_type": "code",
      "source": [
        "tokeniz=word_tokenize(para)"
      ],
      "metadata": {
        "id": "2wVHdUQU6Fae"
      },
      "execution_count": 143,
      "outputs": []
    },
    {
      "cell_type": "code",
      "source": [
        "tokeniz"
      ],
      "metadata": {
        "colab": {
          "base_uri": "https://localhost:8080/"
        },
        "id": "6I3lLwFk6V1E",
        "outputId": "8cc99fc6-6c18-480b-c01f-6a16a9676307"
      },
      "execution_count": 144,
      "outputs": [
        {
          "output_type": "execute_result",
          "data": {
            "text/plain": [
              "['The',\n",
              " 'schools',\n",
              " 'fair',\n",
              " 'is',\n",
              " 'rights',\n",
              " 'Around',\n",
              " 'the',\n",
              " 'Corner',\n",
              " ',',\n",
              " 'and',\n",
              " 'Tickets',\n",
              " 'Have',\n",
              " 'just',\n",
              " 'Gone',\n",
              " 'on',\n",
              " 'sale',\n",
              " '.',\n",
              " 'We',\n",
              " 'are',\n",
              " 'selling',\n",
              " 'a',\n",
              " 'limited',\n",
              " 'number',\n",
              " 'of',\n",
              " 'tickets',\n",
              " 'at',\n",
              " 'a',\n",
              " 'discount',\n",
              " ',',\n",
              " 'so',\n",
              " 'move',\n",
              " 'fast',\n",
              " 'and',\n",
              " 'get',\n",
              " 'yours',\n",
              " 'while',\n",
              " 'they',\n",
              " 'are',\n",
              " 'still',\n",
              " 'available']"
            ]
          },
          "metadata": {},
          "execution_count": 144
        }
      ]
    },
    {
      "cell_type": "code",
      "source": [
        "for i in tokeniz:\n",
        "  print(i +':'+lemmatizer.lemmatize(i))"
      ],
      "metadata": {
        "colab": {
          "base_uri": "https://localhost:8080/"
        },
        "id": "9NF1CZyS6XHk",
        "outputId": "7809ba97-1f3b-454e-d498-b8cb37bb8d86"
      },
      "execution_count": 145,
      "outputs": [
        {
          "output_type": "stream",
          "name": "stdout",
          "text": [
            "The:The\n",
            "schools:school\n",
            "fair:fair\n",
            "is:is\n",
            "rights:right\n",
            "Around:Around\n",
            "the:the\n",
            "Corner:Corner\n",
            ",:,\n",
            "and:and\n",
            "Tickets:Tickets\n",
            "Have:Have\n",
            "just:just\n",
            "Gone:Gone\n",
            "on:on\n",
            "sale:sale\n",
            ".:.\n",
            "We:We\n",
            "are:are\n",
            "selling:selling\n",
            "a:a\n",
            "limited:limited\n",
            "number:number\n",
            "of:of\n",
            "tickets:ticket\n",
            "at:at\n",
            "a:a\n",
            "discount:discount\n",
            ",:,\n",
            "so:so\n",
            "move:move\n",
            "fast:fast\n",
            "and:and\n",
            "get:get\n",
            "yours:yours\n",
            "while:while\n",
            "they:they\n",
            "are:are\n",
            "still:still\n",
            "available:available\n"
          ]
        }
      ]
    },
    {
      "cell_type": "code",
      "source": [
        "import nltk\n",
        "nltk.download('wordnet')"
      ],
      "metadata": {
        "colab": {
          "base_uri": "https://localhost:8080/"
        },
        "id": "EZAtY8GQ6xiO",
        "outputId": "d34b300f-60a7-4388-d281-f1b195e29d78"
      },
      "execution_count": 146,
      "outputs": [
        {
          "output_type": "stream",
          "name": "stderr",
          "text": [
            "[nltk_data] Downloading package wordnet to /root/nltk_data...\n",
            "[nltk_data]   Package wordnet is already up-to-date!\n"
          ]
        },
        {
          "output_type": "execute_result",
          "data": {
            "text/plain": [
              "True"
            ]
          },
          "metadata": {},
          "execution_count": 146
        }
      ]
    },
    {
      "cell_type": "code",
      "source": [
        "#parts of Speech\n",
        "#pos tag\n",
        "for i in tokeniz:\n",
        "    print(nltk.pos_tag([i]))"
      ],
      "metadata": {
        "colab": {
          "base_uri": "https://localhost:8080/"
        },
        "id": "becnIoGx69TH",
        "outputId": "1b52183a-f59d-4c00-8c9a-7365f4b2666e"
      },
      "execution_count": 147,
      "outputs": [
        {
          "output_type": "stream",
          "name": "stdout",
          "text": [
            "[('The', 'DT')]\n",
            "[('schools', 'NNS')]\n",
            "[('fair', 'NN')]\n",
            "[('is', 'VBZ')]\n",
            "[('rights', 'NNS')]\n",
            "[('Around', 'IN')]\n",
            "[('the', 'DT')]\n",
            "[('Corner', 'NN')]\n",
            "[(',', ',')]\n",
            "[('and', 'CC')]\n",
            "[('Tickets', 'NNS')]\n",
            "[('Have', 'VB')]\n",
            "[('just', 'RB')]\n",
            "[('Gone', 'NN')]\n",
            "[('on', 'IN')]\n",
            "[('sale', 'NN')]\n",
            "[('.', '.')]\n",
            "[('We', 'PRP')]\n",
            "[('are', 'VBP')]\n",
            "[('selling', 'VBG')]\n",
            "[('a', 'DT')]\n",
            "[('limited', 'JJ')]\n",
            "[('number', 'NN')]\n",
            "[('of', 'IN')]\n",
            "[('tickets', 'NNS')]\n",
            "[('at', 'IN')]\n",
            "[('a', 'DT')]\n",
            "[('discount', 'NN')]\n",
            "[(',', ',')]\n",
            "[('so', 'RB')]\n",
            "[('move', 'NN')]\n",
            "[('fast', 'NN')]\n",
            "[('and', 'CC')]\n",
            "[('get', 'VB')]\n",
            "[('yours', 'NNS')]\n",
            "[('while', 'IN')]\n",
            "[('they', 'PRP')]\n",
            "[('are', 'VBP')]\n",
            "[('still', 'RB')]\n",
            "[('available', 'JJ')]\n"
          ]
        }
      ]
    },
    {
      "cell_type": "code",
      "source": [
        "nltk.download('averaged_perceptron_tagger')"
      ],
      "metadata": {
        "colab": {
          "base_uri": "https://localhost:8080/"
        },
        "id": "HugdNcAU_svF",
        "outputId": "0f9a24c5-3dde-4b77-cc45-53a3dbcb86a5"
      },
      "execution_count": 148,
      "outputs": [
        {
          "output_type": "stream",
          "name": "stderr",
          "text": [
            "[nltk_data] Downloading package averaged_perceptron_tagger to\n",
            "[nltk_data]     /root/nltk_data...\n",
            "[nltk_data]   Package averaged_perceptron_tagger is already up-to-\n",
            "[nltk_data]       date!\n"
          ]
        },
        {
          "output_type": "execute_result",
          "data": {
            "text/plain": [
              "True"
            ]
          },
          "metadata": {},
          "execution_count": 148
        }
      ]
    },
    {
      "cell_type": "code",
      "source": [
        "#named Entitiy Recognation\n",
        "word='''America, the land of opportunity, is known for its diverse culture, breathtaking landscapes, and the pursuit of the American Dream'''"
      ],
      "metadata": {
        "id": "hX7koXvY_6ci"
      },
      "execution_count": 149,
      "outputs": []
    },
    {
      "cell_type": "code",
      "source": [
        "#tokenize\n",
        "word_token=word_tokenize(word)\n",
        "\n",
        "\n"
      ],
      "metadata": {
        "id": "4ciM1LCmB8Ok"
      },
      "execution_count": 150,
      "outputs": []
    },
    {
      "cell_type": "code",
      "source": [
        "#pos tag\n",
        "word_pos=nltk.pos_tag(word_token)\n",
        "word_pos"
      ],
      "metadata": {
        "colab": {
          "base_uri": "https://localhost:8080/"
        },
        "id": "QV4Z4LOZC-1N",
        "outputId": "595ffc6d-3e98-4c5a-d299-c0acdd4b4b07"
      },
      "execution_count": 151,
      "outputs": [
        {
          "output_type": "execute_result",
          "data": {
            "text/plain": [
              "[('America', 'NNP'),\n",
              " (',', ','),\n",
              " ('the', 'DT'),\n",
              " ('land', 'NN'),\n",
              " ('of', 'IN'),\n",
              " ('opportunity', 'NN'),\n",
              " (',', ','),\n",
              " ('is', 'VBZ'),\n",
              " ('known', 'VBN'),\n",
              " ('for', 'IN'),\n",
              " ('its', 'PRP$'),\n",
              " ('diverse', 'JJ'),\n",
              " ('culture', 'NN'),\n",
              " (',', ','),\n",
              " ('breathtaking', 'VBG'),\n",
              " ('landscapes', 'NNS'),\n",
              " (',', ','),\n",
              " ('and', 'CC'),\n",
              " ('the', 'DT'),\n",
              " ('pursuit', 'NN'),\n",
              " ('of', 'IN'),\n",
              " ('the', 'DT'),\n",
              " ('American', 'JJ'),\n",
              " ('Dream', 'NNP')]"
            ]
          },
          "metadata": {},
          "execution_count": 151
        }
      ]
    },
    {
      "cell_type": "code",
      "source": [
        "from nltk import ne_chunk"
      ],
      "metadata": {
        "id": "wsyW1JPrEQne"
      },
      "execution_count": 152,
      "outputs": []
    },
    {
      "cell_type": "code",
      "source": [
        "#named entity - ne_chunk\n",
        "word_ner=ne_chunk(word_pos)\n",
        "word_ner"
      ],
      "metadata": {
        "colab": {
          "base_uri": "https://localhost:8080/",
          "height": 209
        },
        "id": "y8U-NxUWD5Ug",
        "outputId": "59905dd3-4dc0-423a-c40e-666304311568"
      },
      "execution_count": 153,
      "outputs": [
        {
          "output_type": "execute_result",
          "data": {
            "text/plain": [
              "Tree('S', [Tree('GPE', [('America', 'NNP')]), (',', ','), ('the', 'DT'), ('land', 'NN'), ('of', 'IN'), ('opportunity', 'NN'), (',', ','), ('is', 'VBZ'), ('known', 'VBN'), ('for', 'IN'), ('its', 'PRP$'), ('diverse', 'JJ'), ('culture', 'NN'), (',', ','), ('breathtaking', 'VBG'), ('landscapes', 'NNS'), (',', ','), ('and', 'CC'), ('the', 'DT'), ('pursuit', 'NN'), ('of', 'IN'), ('the', 'DT'), Tree('ORGANIZATION', [('American', 'JJ'), ('Dream', 'NNP')])])"
            ],
            "image/svg+xml": "<svg baseProfile=\"full\" height=\"168px\" preserveAspectRatio=\"xMidYMid meet\" style=\"font-family: times, serif; font-weight:normal; font-style: normal; font-size: 16px;\" version=\"1.1\" viewBox=\"0,0,1288.0,168.0\" width=\"1288px\" xmlns=\"http://www.w3.org/2000/svg\" xmlns:ev=\"http://www.w3.org/2001/xml-events\" xmlns:xlink=\"http://www.w3.org/1999/xlink\"><defs /><svg width=\"100%\" x=\"0\" y=\"0em\"><defs /><text text-anchor=\"middle\" x=\"50%\" y=\"1em\">S</text></svg><svg width=\"5.59006%\" x=\"0%\" y=\"3em\"><defs /><svg width=\"100%\" x=\"0\" y=\"0em\"><defs /><text text-anchor=\"middle\" x=\"50%\" y=\"1em\">GPE</text></svg><svg width=\"100%\" x=\"0%\" y=\"3em\"><defs /><svg width=\"100%\" x=\"0\" y=\"0em\"><defs /><text text-anchor=\"middle\" x=\"50%\" y=\"1em\">America</text></svg><svg width=\"100%\" x=\"0%\" y=\"3em\"><defs /><svg width=\"100%\" x=\"0\" y=\"0em\"><defs /><text text-anchor=\"middle\" x=\"50%\" y=\"1em\">NNP</text></svg></svg><line stroke=\"black\" x1=\"50%\" x2=\"50%\" y1=\"1.2em\" y2=\"3em\" /></svg><line stroke=\"black\" x1=\"50%\" x2=\"50%\" y1=\"1.2em\" y2=\"3em\" /></svg><line stroke=\"black\" x1=\"50%\" x2=\"2.79503%\" y1=\"1.2em\" y2=\"3em\" /><svg width=\"1.86335%\" x=\"5.59006%\" y=\"3em\"><defs /><svg width=\"100%\" x=\"0\" y=\"0em\"><defs /><text text-anchor=\"middle\" x=\"50%\" y=\"1em\">,</text></svg><svg width=\"100%\" x=\"0%\" y=\"3em\"><defs /><svg width=\"100%\" x=\"0\" y=\"0em\"><defs /><text text-anchor=\"middle\" x=\"50%\" y=\"1em\">,</text></svg></svg><line stroke=\"black\" x1=\"50%\" x2=\"50%\" y1=\"1.2em\" y2=\"3em\" /></svg><line stroke=\"black\" x1=\"50%\" x2=\"6.52174%\" y1=\"1.2em\" y2=\"3em\" /><svg width=\"3.10559%\" x=\"7.45342%\" y=\"3em\"><defs /><svg width=\"100%\" x=\"0\" y=\"0em\"><defs /><text text-anchor=\"middle\" x=\"50%\" y=\"1em\">the</text></svg><svg width=\"100%\" x=\"0%\" y=\"3em\"><defs /><svg width=\"100%\" x=\"0\" y=\"0em\"><defs /><text text-anchor=\"middle\" x=\"50%\" y=\"1em\">DT</text></svg></svg><line stroke=\"black\" x1=\"50%\" x2=\"50%\" y1=\"1.2em\" y2=\"3em\" /></svg><line stroke=\"black\" x1=\"50%\" x2=\"9.00621%\" y1=\"1.2em\" y2=\"3em\" /><svg width=\"3.72671%\" x=\"10.559%\" y=\"3em\"><defs /><svg width=\"100%\" x=\"0\" y=\"0em\"><defs /><text text-anchor=\"middle\" x=\"50%\" y=\"1em\">land</text></svg><svg width=\"100%\" x=\"0%\" y=\"3em\"><defs /><svg width=\"100%\" x=\"0\" y=\"0em\"><defs /><text text-anchor=\"middle\" x=\"50%\" y=\"1em\">NN</text></svg></svg><line stroke=\"black\" x1=\"50%\" x2=\"50%\" y1=\"1.2em\" y2=\"3em\" /></svg><line stroke=\"black\" x1=\"50%\" x2=\"12.4224%\" y1=\"1.2em\" y2=\"3em\" /><svg width=\"2.48447%\" x=\"14.2857%\" y=\"3em\"><defs /><svg width=\"100%\" x=\"0\" y=\"0em\"><defs /><text text-anchor=\"middle\" x=\"50%\" y=\"1em\">of</text></svg><svg width=\"100%\" x=\"0%\" y=\"3em\"><defs /><svg width=\"100%\" x=\"0\" y=\"0em\"><defs /><text text-anchor=\"middle\" x=\"50%\" y=\"1em\">IN</text></svg></svg><line stroke=\"black\" x1=\"50%\" x2=\"50%\" y1=\"1.2em\" y2=\"3em\" /></svg><line stroke=\"black\" x1=\"50%\" x2=\"15.528%\" y1=\"1.2em\" y2=\"3em\" /><svg width=\"8.07453%\" x=\"16.7702%\" y=\"3em\"><defs /><svg width=\"100%\" x=\"0\" y=\"0em\"><defs /><text text-anchor=\"middle\" x=\"50%\" y=\"1em\">opportunity</text></svg><svg width=\"100%\" x=\"0%\" y=\"3em\"><defs /><svg width=\"100%\" x=\"0\" y=\"0em\"><defs /><text text-anchor=\"middle\" x=\"50%\" y=\"1em\">NN</text></svg></svg><line stroke=\"black\" x1=\"50%\" x2=\"50%\" y1=\"1.2em\" y2=\"3em\" /></svg><line stroke=\"black\" x1=\"50%\" x2=\"20.8075%\" y1=\"1.2em\" y2=\"3em\" /><svg width=\"1.86335%\" x=\"24.8447%\" y=\"3em\"><defs /><svg width=\"100%\" x=\"0\" y=\"0em\"><defs /><text text-anchor=\"middle\" x=\"50%\" y=\"1em\">,</text></svg><svg width=\"100%\" x=\"0%\" y=\"3em\"><defs /><svg width=\"100%\" x=\"0\" y=\"0em\"><defs /><text text-anchor=\"middle\" x=\"50%\" y=\"1em\">,</text></svg></svg><line stroke=\"black\" x1=\"50%\" x2=\"50%\" y1=\"1.2em\" y2=\"3em\" /></svg><line stroke=\"black\" x1=\"50%\" x2=\"25.7764%\" y1=\"1.2em\" y2=\"3em\" /><svg width=\"3.10559%\" x=\"26.7081%\" y=\"3em\"><defs /><svg width=\"100%\" x=\"0\" y=\"0em\"><defs /><text text-anchor=\"middle\" x=\"50%\" y=\"1em\">is</text></svg><svg width=\"100%\" x=\"0%\" y=\"3em\"><defs /><svg width=\"100%\" x=\"0\" y=\"0em\"><defs /><text text-anchor=\"middle\" x=\"50%\" y=\"1em\">VBZ</text></svg></svg><line stroke=\"black\" x1=\"50%\" x2=\"50%\" y1=\"1.2em\" y2=\"3em\" /></svg><line stroke=\"black\" x1=\"50%\" x2=\"28.2609%\" y1=\"1.2em\" y2=\"3em\" /><svg width=\"4.34783%\" x=\"29.8137%\" y=\"3em\"><defs /><svg width=\"100%\" x=\"0\" y=\"0em\"><defs /><text text-anchor=\"middle\" x=\"50%\" y=\"1em\">known</text></svg><svg width=\"100%\" x=\"0%\" y=\"3em\"><defs /><svg width=\"100%\" x=\"0\" y=\"0em\"><defs /><text text-anchor=\"middle\" x=\"50%\" y=\"1em\">VBN</text></svg></svg><line stroke=\"black\" x1=\"50%\" x2=\"50%\" y1=\"1.2em\" y2=\"3em\" /></svg><line stroke=\"black\" x1=\"50%\" x2=\"31.9876%\" y1=\"1.2em\" y2=\"3em\" /><svg width=\"3.10559%\" x=\"34.1615%\" y=\"3em\"><defs /><svg width=\"100%\" x=\"0\" y=\"0em\"><defs /><text text-anchor=\"middle\" x=\"50%\" y=\"1em\">for</text></svg><svg width=\"100%\" x=\"0%\" y=\"3em\"><defs /><svg width=\"100%\" x=\"0\" y=\"0em\"><defs /><text text-anchor=\"middle\" x=\"50%\" y=\"1em\">IN</text></svg></svg><line stroke=\"black\" x1=\"50%\" x2=\"50%\" y1=\"1.2em\" y2=\"3em\" /></svg><line stroke=\"black\" x1=\"50%\" x2=\"35.7143%\" y1=\"1.2em\" y2=\"3em\" /><svg width=\"3.72671%\" x=\"37.2671%\" y=\"3em\"><defs /><svg width=\"100%\" x=\"0\" y=\"0em\"><defs /><text text-anchor=\"middle\" x=\"50%\" y=\"1em\">its</text></svg><svg width=\"100%\" x=\"0%\" y=\"3em\"><defs /><svg width=\"100%\" x=\"0\" y=\"0em\"><defs /><text text-anchor=\"middle\" x=\"50%\" y=\"1em\">PRP$</text></svg></svg><line stroke=\"black\" x1=\"50%\" x2=\"50%\" y1=\"1.2em\" y2=\"3em\" /></svg><line stroke=\"black\" x1=\"50%\" x2=\"39.1304%\" y1=\"1.2em\" y2=\"3em\" /><svg width=\"5.59006%\" x=\"40.9938%\" y=\"3em\"><defs /><svg width=\"100%\" x=\"0\" y=\"0em\"><defs /><text text-anchor=\"middle\" x=\"50%\" y=\"1em\">diverse</text></svg><svg width=\"100%\" x=\"0%\" y=\"3em\"><defs /><svg width=\"100%\" x=\"0\" y=\"0em\"><defs /><text text-anchor=\"middle\" x=\"50%\" y=\"1em\">JJ</text></svg></svg><line stroke=\"black\" x1=\"50%\" x2=\"50%\" y1=\"1.2em\" y2=\"3em\" /></svg><line stroke=\"black\" x1=\"50%\" x2=\"43.7888%\" y1=\"1.2em\" y2=\"3em\" /><svg width=\"5.59006%\" x=\"46.5839%\" y=\"3em\"><defs /><svg width=\"100%\" x=\"0\" y=\"0em\"><defs /><text text-anchor=\"middle\" x=\"50%\" y=\"1em\">culture</text></svg><svg width=\"100%\" x=\"0%\" y=\"3em\"><defs /><svg width=\"100%\" x=\"0\" y=\"0em\"><defs /><text text-anchor=\"middle\" x=\"50%\" y=\"1em\">NN</text></svg></svg><line stroke=\"black\" x1=\"50%\" x2=\"50%\" y1=\"1.2em\" y2=\"3em\" /></svg><line stroke=\"black\" x1=\"50%\" x2=\"49.3789%\" y1=\"1.2em\" y2=\"3em\" /><svg width=\"1.86335%\" x=\"52.1739%\" y=\"3em\"><defs /><svg width=\"100%\" x=\"0\" y=\"0em\"><defs /><text text-anchor=\"middle\" x=\"50%\" y=\"1em\">,</text></svg><svg width=\"100%\" x=\"0%\" y=\"3em\"><defs /><svg width=\"100%\" x=\"0\" y=\"0em\"><defs /><text text-anchor=\"middle\" x=\"50%\" y=\"1em\">,</text></svg></svg><line stroke=\"black\" x1=\"50%\" x2=\"50%\" y1=\"1.2em\" y2=\"3em\" /></svg><line stroke=\"black\" x1=\"50%\" x2=\"53.1056%\" y1=\"1.2em\" y2=\"3em\" /><svg width=\"8.69565%\" x=\"54.0373%\" y=\"3em\"><defs /><svg width=\"100%\" x=\"0\" y=\"0em\"><defs /><text text-anchor=\"middle\" x=\"50%\" y=\"1em\">breathtaking</text></svg><svg width=\"100%\" x=\"0%\" y=\"3em\"><defs /><svg width=\"100%\" x=\"0\" y=\"0em\"><defs /><text text-anchor=\"middle\" x=\"50%\" y=\"1em\">VBG</text></svg></svg><line stroke=\"black\" x1=\"50%\" x2=\"50%\" y1=\"1.2em\" y2=\"3em\" /></svg><line stroke=\"black\" x1=\"50%\" x2=\"58.3851%\" y1=\"1.2em\" y2=\"3em\" /><svg width=\"7.45342%\" x=\"62.7329%\" y=\"3em\"><defs /><svg width=\"100%\" x=\"0\" y=\"0em\"><defs /><text text-anchor=\"middle\" x=\"50%\" y=\"1em\">landscapes</text></svg><svg width=\"100%\" x=\"0%\" y=\"3em\"><defs /><svg width=\"100%\" x=\"0\" y=\"0em\"><defs /><text text-anchor=\"middle\" x=\"50%\" y=\"1em\">NNS</text></svg></svg><line stroke=\"black\" x1=\"50%\" x2=\"50%\" y1=\"1.2em\" y2=\"3em\" /></svg><line stroke=\"black\" x1=\"50%\" x2=\"66.4596%\" y1=\"1.2em\" y2=\"3em\" /><svg width=\"1.86335%\" x=\"70.1863%\" y=\"3em\"><defs /><svg width=\"100%\" x=\"0\" y=\"0em\"><defs /><text text-anchor=\"middle\" x=\"50%\" y=\"1em\">,</text></svg><svg width=\"100%\" x=\"0%\" y=\"3em\"><defs /><svg width=\"100%\" x=\"0\" y=\"0em\"><defs /><text text-anchor=\"middle\" x=\"50%\" y=\"1em\">,</text></svg></svg><line stroke=\"black\" x1=\"50%\" x2=\"50%\" y1=\"1.2em\" y2=\"3em\" /></svg><line stroke=\"black\" x1=\"50%\" x2=\"71.118%\" y1=\"1.2em\" y2=\"3em\" /><svg width=\"3.10559%\" x=\"72.0497%\" y=\"3em\"><defs /><svg width=\"100%\" x=\"0\" y=\"0em\"><defs /><text text-anchor=\"middle\" x=\"50%\" y=\"1em\">and</text></svg><svg width=\"100%\" x=\"0%\" y=\"3em\"><defs /><svg width=\"100%\" x=\"0\" y=\"0em\"><defs /><text text-anchor=\"middle\" x=\"50%\" y=\"1em\">CC</text></svg></svg><line stroke=\"black\" x1=\"50%\" x2=\"50%\" y1=\"1.2em\" y2=\"3em\" /></svg><line stroke=\"black\" x1=\"50%\" x2=\"73.6025%\" y1=\"1.2em\" y2=\"3em\" /><svg width=\"3.10559%\" x=\"75.1553%\" y=\"3em\"><defs /><svg width=\"100%\" x=\"0\" y=\"0em\"><defs /><text text-anchor=\"middle\" x=\"50%\" y=\"1em\">the</text></svg><svg width=\"100%\" x=\"0%\" y=\"3em\"><defs /><svg width=\"100%\" x=\"0\" y=\"0em\"><defs /><text text-anchor=\"middle\" x=\"50%\" y=\"1em\">DT</text></svg></svg><line stroke=\"black\" x1=\"50%\" x2=\"50%\" y1=\"1.2em\" y2=\"3em\" /></svg><line stroke=\"black\" x1=\"50%\" x2=\"76.7081%\" y1=\"1.2em\" y2=\"3em\" /><svg width=\"5.59006%\" x=\"78.2609%\" y=\"3em\"><defs /><svg width=\"100%\" x=\"0\" y=\"0em\"><defs /><text text-anchor=\"middle\" x=\"50%\" y=\"1em\">pursuit</text></svg><svg width=\"100%\" x=\"0%\" y=\"3em\"><defs /><svg width=\"100%\" x=\"0\" y=\"0em\"><defs /><text text-anchor=\"middle\" x=\"50%\" y=\"1em\">NN</text></svg></svg><line stroke=\"black\" x1=\"50%\" x2=\"50%\" y1=\"1.2em\" y2=\"3em\" /></svg><line stroke=\"black\" x1=\"50%\" x2=\"81.0559%\" y1=\"1.2em\" y2=\"3em\" /><svg width=\"2.48447%\" x=\"83.8509%\" y=\"3em\"><defs /><svg width=\"100%\" x=\"0\" y=\"0em\"><defs /><text text-anchor=\"middle\" x=\"50%\" y=\"1em\">of</text></svg><svg width=\"100%\" x=\"0%\" y=\"3em\"><defs /><svg width=\"100%\" x=\"0\" y=\"0em\"><defs /><text text-anchor=\"middle\" x=\"50%\" y=\"1em\">IN</text></svg></svg><line stroke=\"black\" x1=\"50%\" x2=\"50%\" y1=\"1.2em\" y2=\"3em\" /></svg><line stroke=\"black\" x1=\"50%\" x2=\"85.0932%\" y1=\"1.2em\" y2=\"3em\" /><svg width=\"3.10559%\" x=\"86.3354%\" y=\"3em\"><defs /><svg width=\"100%\" x=\"0\" y=\"0em\"><defs /><text text-anchor=\"middle\" x=\"50%\" y=\"1em\">the</text></svg><svg width=\"100%\" x=\"0%\" y=\"3em\"><defs /><svg width=\"100%\" x=\"0\" y=\"0em\"><defs /><text text-anchor=\"middle\" x=\"50%\" y=\"1em\">DT</text></svg></svg><line stroke=\"black\" x1=\"50%\" x2=\"50%\" y1=\"1.2em\" y2=\"3em\" /></svg><line stroke=\"black\" x1=\"50%\" x2=\"87.8882%\" y1=\"1.2em\" y2=\"3em\" /><svg width=\"10.559%\" x=\"89.441%\" y=\"3em\"><defs /><svg width=\"100%\" x=\"0\" y=\"0em\"><defs /><text text-anchor=\"middle\" x=\"50%\" y=\"1em\">ORGANIZATION</text></svg><svg width=\"58.8235%\" x=\"0%\" y=\"3em\"><defs /><svg width=\"100%\" x=\"0\" y=\"0em\"><defs /><text text-anchor=\"middle\" x=\"50%\" y=\"1em\">American</text></svg><svg width=\"100%\" x=\"0%\" y=\"3em\"><defs /><svg width=\"100%\" x=\"0\" y=\"0em\"><defs /><text text-anchor=\"middle\" x=\"50%\" y=\"1em\">JJ</text></svg></svg><line stroke=\"black\" x1=\"50%\" x2=\"50%\" y1=\"1.2em\" y2=\"3em\" /></svg><line stroke=\"black\" x1=\"50%\" x2=\"29.4118%\" y1=\"1.2em\" y2=\"3em\" /><svg width=\"41.1765%\" x=\"58.8235%\" y=\"3em\"><defs /><svg width=\"100%\" x=\"0\" y=\"0em\"><defs /><text text-anchor=\"middle\" x=\"50%\" y=\"1em\">Dream</text></svg><svg width=\"100%\" x=\"0%\" y=\"3em\"><defs /><svg width=\"100%\" x=\"0\" y=\"0em\"><defs /><text text-anchor=\"middle\" x=\"50%\" y=\"1em\">NNP</text></svg></svg><line stroke=\"black\" x1=\"50%\" x2=\"50%\" y1=\"1.2em\" y2=\"3em\" /></svg><line stroke=\"black\" x1=\"50%\" x2=\"79.4118%\" y1=\"1.2em\" y2=\"3em\" /></svg><line stroke=\"black\" x1=\"50%\" x2=\"94.7205%\" y1=\"1.2em\" y2=\"3em\" /></svg>"
          },
          "metadata": {},
          "execution_count": 153
        }
      ]
    },
    {
      "cell_type": "code",
      "source": [
        "pip install svgling"
      ],
      "metadata": {
        "colab": {
          "base_uri": "https://localhost:8080/"
        },
        "id": "H_i2C3C-D6UL",
        "outputId": "90e8168e-d679-4152-abd9-87001b0da3e9"
      },
      "execution_count": 154,
      "outputs": [
        {
          "output_type": "stream",
          "name": "stdout",
          "text": [
            "Looking in indexes: https://pypi.org/simple, https://us-python.pkg.dev/colab-wheels/public/simple/\n",
            "Requirement already satisfied: svgling in /usr/local/lib/python3.10/dist-packages (0.3.1)\n",
            "Requirement already satisfied: svgwrite in /usr/local/lib/python3.10/dist-packages (from svgling) (1.4.3)\n"
          ]
        }
      ]
    },
    {
      "cell_type": "code",
      "source": [
        "import svgling"
      ],
      "metadata": {
        "id": "drWTpazUEef0"
      },
      "execution_count": 155,
      "outputs": []
    },
    {
      "cell_type": "code",
      "source": [],
      "metadata": {
        "id": "LNqvCbN4EkLH"
      },
      "execution_count": 155,
      "outputs": []
    }
  ]
}